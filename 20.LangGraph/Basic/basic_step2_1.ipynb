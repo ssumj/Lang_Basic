{
 "cells": [
  {
   "cell_type": "markdown",
   "metadata": {},
   "source": [
    "### 랭그래프 단계별 구축 과정\n",
    "- https://www.langchain.com/ 의 공식문서 참고\n",
    "- 파이썬 3.12.2\n",
    "\n",
    "__step2_1 : Enhancing the Chatbot with Tools__\n",
    " - 챗봇 ai 모델에 도구를 붙여서 질문하기\n",
    " - 도구 : 웹 검색을 할 수 있는 Tavily 검색엔진"
   ]
  },
  {
   "cell_type": "code",
   "execution_count": 3,
   "metadata": {},
   "outputs": [
    {
     "name": "stdout",
     "output_type": "stream",
     "text": [
      "Collecting tavily-python\n",
      "  Using cached tavily_python-0.5.1-py3-none-any.whl.metadata (91 kB)\n",
      "Collecting langchain_community\n",
      "  Using cached langchain_community-0.3.17-py3-none-any.whl.metadata (2.4 kB)\n",
      "Requirement already satisfied: requests in /Users/jeongsumin/DEV/MyVenv/LangVenv/lib/python3.13/site-packages (from tavily-python) (2.32.3)\n",
      "Requirement already satisfied: tiktoken>=0.5.1 in /Users/jeongsumin/DEV/MyVenv/LangVenv/lib/python3.13/site-packages (from tavily-python) (0.8.0)\n",
      "Requirement already satisfied: httpx in /Users/jeongsumin/DEV/MyVenv/LangVenv/lib/python3.13/site-packages (from tavily-python) (0.28.1)\n",
      "Requirement already satisfied: langchain-core<1.0.0,>=0.3.34 in /Users/jeongsumin/DEV/MyVenv/LangVenv/lib/python3.13/site-packages (from langchain_community) (0.3.35)\n",
      "Collecting langchain<1.0.0,>=0.3.18 (from langchain_community)\n",
      "  Using cached langchain-0.3.18-py3-none-any.whl.metadata (7.8 kB)\n",
      "Collecting SQLAlchemy<3,>=1.4 (from langchain_community)\n",
      "  Using cached SQLAlchemy-2.0.38-cp313-cp313-macosx_11_0_arm64.whl.metadata (9.6 kB)\n",
      "Requirement already satisfied: PyYAML>=5.3 in /Users/jeongsumin/DEV/MyVenv/LangVenv/lib/python3.13/site-packages (from langchain_community) (6.0.2)\n",
      "Collecting aiohttp<4.0.0,>=3.8.3 (from langchain_community)\n",
      "  Using cached aiohttp-3.11.12-cp313-cp313-macosx_11_0_arm64.whl.metadata (7.7 kB)\n",
      "Requirement already satisfied: tenacity!=8.4.0,<10,>=8.1.0 in /Users/jeongsumin/DEV/MyVenv/LangVenv/lib/python3.13/site-packages (from langchain_community) (9.0.0)\n",
      "Collecting dataclasses-json<0.7,>=0.5.7 (from langchain_community)\n",
      "  Using cached dataclasses_json-0.6.7-py3-none-any.whl.metadata (25 kB)\n",
      "Collecting pydantic-settings<3.0.0,>=2.4.0 (from langchain_community)\n",
      "  Using cached pydantic_settings-2.7.1-py3-none-any.whl.metadata (3.5 kB)\n",
      "Requirement already satisfied: langsmith<0.4,>=0.1.125 in /Users/jeongsumin/DEV/MyVenv/LangVenv/lib/python3.13/site-packages (from langchain_community) (0.3.8)\n",
      "Collecting httpx-sse<1.0.0,>=0.4.0 (from langchain_community)\n",
      "  Using cached httpx_sse-0.4.0-py3-none-any.whl.metadata (9.0 kB)\n",
      "Collecting numpy<3,>=1.26.2 (from langchain_community)\n",
      "  Downloading numpy-2.2.3-cp313-cp313-macosx_14_0_arm64.whl.metadata (62 kB)\n",
      "Collecting aiohappyeyeballs>=2.3.0 (from aiohttp<4.0.0,>=3.8.3->langchain_community)\n",
      "  Using cached aiohappyeyeballs-2.4.6-py3-none-any.whl.metadata (5.9 kB)\n",
      "Collecting aiosignal>=1.1.2 (from aiohttp<4.0.0,>=3.8.3->langchain_community)\n",
      "  Using cached aiosignal-1.3.2-py2.py3-none-any.whl.metadata (3.8 kB)\n",
      "Requirement already satisfied: attrs>=17.3.0 in /Users/jeongsumin/DEV/MyVenv/LangVenv/lib/python3.13/site-packages (from aiohttp<4.0.0,>=3.8.3->langchain_community) (25.1.0)\n",
      "Collecting frozenlist>=1.1.1 (from aiohttp<4.0.0,>=3.8.3->langchain_community)\n",
      "  Using cached frozenlist-1.5.0-cp313-cp313-macosx_11_0_arm64.whl.metadata (13 kB)\n",
      "Collecting multidict<7.0,>=4.5 (from aiohttp<4.0.0,>=3.8.3->langchain_community)\n",
      "  Using cached multidict-6.1.0-cp313-cp313-macosx_11_0_arm64.whl.metadata (5.0 kB)\n",
      "Collecting propcache>=0.2.0 (from aiohttp<4.0.0,>=3.8.3->langchain_community)\n",
      "  Using cached propcache-0.2.1-cp313-cp313-macosx_11_0_arm64.whl.metadata (9.2 kB)\n",
      "Collecting yarl<2.0,>=1.17.0 (from aiohttp<4.0.0,>=3.8.3->langchain_community)\n",
      "  Using cached yarl-1.18.3-cp313-cp313-macosx_11_0_arm64.whl.metadata (69 kB)\n",
      "Collecting marshmallow<4.0.0,>=3.18.0 (from dataclasses-json<0.7,>=0.5.7->langchain_community)\n",
      "  Using cached marshmallow-3.26.1-py3-none-any.whl.metadata (7.3 kB)\n",
      "Collecting typing-inspect<1,>=0.4.0 (from dataclasses-json<0.7,>=0.5.7->langchain_community)\n",
      "  Using cached typing_inspect-0.9.0-py3-none-any.whl.metadata (1.5 kB)\n",
      "Collecting langchain-text-splitters<1.0.0,>=0.3.6 (from langchain<1.0.0,>=0.3.18->langchain_community)\n",
      "  Using cached langchain_text_splitters-0.3.6-py3-none-any.whl.metadata (1.9 kB)\n",
      "Requirement already satisfied: pydantic<3.0.0,>=2.7.4 in /Users/jeongsumin/DEV/MyVenv/LangVenv/lib/python3.13/site-packages (from langchain<1.0.0,>=0.3.18->langchain_community) (2.10.6)\n",
      "Requirement already satisfied: jsonpatch<2.0,>=1.33 in /Users/jeongsumin/DEV/MyVenv/LangVenv/lib/python3.13/site-packages (from langchain-core<1.0.0,>=0.3.34->langchain_community) (1.33)\n",
      "Requirement already satisfied: packaging<25,>=23.2 in /Users/jeongsumin/DEV/MyVenv/LangVenv/lib/python3.13/site-packages (from langchain-core<1.0.0,>=0.3.34->langchain_community) (24.2)\n",
      "Requirement already satisfied: typing-extensions>=4.7 in /Users/jeongsumin/DEV/MyVenv/LangVenv/lib/python3.13/site-packages (from langchain-core<1.0.0,>=0.3.34->langchain_community) (4.12.2)\n",
      "Requirement already satisfied: orjson<4.0.0,>=3.9.14 in /Users/jeongsumin/DEV/MyVenv/LangVenv/lib/python3.13/site-packages (from langsmith<0.4,>=0.1.125->langchain_community) (3.10.15)\n",
      "Requirement already satisfied: requests-toolbelt<2.0.0,>=1.0.0 in /Users/jeongsumin/DEV/MyVenv/LangVenv/lib/python3.13/site-packages (from langsmith<0.4,>=0.1.125->langchain_community) (1.0.0)\n",
      "Requirement already satisfied: zstandard<0.24.0,>=0.23.0 in /Users/jeongsumin/DEV/MyVenv/LangVenv/lib/python3.13/site-packages (from langsmith<0.4,>=0.1.125->langchain_community) (0.23.0)\n",
      "Requirement already satisfied: anyio in /Users/jeongsumin/DEV/MyVenv/LangVenv/lib/python3.13/site-packages (from httpx->tavily-python) (4.8.0)\n",
      "Requirement already satisfied: certifi in /Users/jeongsumin/DEV/MyVenv/LangVenv/lib/python3.13/site-packages (from httpx->tavily-python) (2025.1.31)\n",
      "Requirement already satisfied: httpcore==1.* in /Users/jeongsumin/DEV/MyVenv/LangVenv/lib/python3.13/site-packages (from httpx->tavily-python) (1.0.7)\n",
      "Requirement already satisfied: idna in /Users/jeongsumin/DEV/MyVenv/LangVenv/lib/python3.13/site-packages (from httpx->tavily-python) (3.10)\n",
      "Requirement already satisfied: h11<0.15,>=0.13 in /Users/jeongsumin/DEV/MyVenv/LangVenv/lib/python3.13/site-packages (from httpcore==1.*->httpx->tavily-python) (0.14.0)\n",
      "Requirement already satisfied: python-dotenv>=0.21.0 in /Users/jeongsumin/DEV/MyVenv/LangVenv/lib/python3.13/site-packages (from pydantic-settings<3.0.0,>=2.4.0->langchain_community) (1.0.1)\n",
      "Requirement already satisfied: charset-normalizer<4,>=2 in /Users/jeongsumin/DEV/MyVenv/LangVenv/lib/python3.13/site-packages (from requests->tavily-python) (3.4.1)\n",
      "Requirement already satisfied: urllib3<3,>=1.21.1 in /Users/jeongsumin/DEV/MyVenv/LangVenv/lib/python3.13/site-packages (from requests->tavily-python) (2.3.0)\n",
      "Requirement already satisfied: regex>=2022.1.18 in /Users/jeongsumin/DEV/MyVenv/LangVenv/lib/python3.13/site-packages (from tiktoken>=0.5.1->tavily-python) (2024.11.6)\n",
      "Requirement already satisfied: jsonpointer>=1.9 in /Users/jeongsumin/DEV/MyVenv/LangVenv/lib/python3.13/site-packages (from jsonpatch<2.0,>=1.33->langchain-core<1.0.0,>=0.3.34->langchain_community) (3.0.0)\n",
      "Requirement already satisfied: annotated-types>=0.6.0 in /Users/jeongsumin/DEV/MyVenv/LangVenv/lib/python3.13/site-packages (from pydantic<3.0.0,>=2.7.4->langchain<1.0.0,>=0.3.18->langchain_community) (0.7.0)\n",
      "Requirement already satisfied: pydantic-core==2.27.2 in /Users/jeongsumin/DEV/MyVenv/LangVenv/lib/python3.13/site-packages (from pydantic<3.0.0,>=2.7.4->langchain<1.0.0,>=0.3.18->langchain_community) (2.27.2)\n",
      "Collecting mypy-extensions>=0.3.0 (from typing-inspect<1,>=0.4.0->dataclasses-json<0.7,>=0.5.7->langchain_community)\n",
      "  Using cached mypy_extensions-1.0.0-py3-none-any.whl.metadata (1.1 kB)\n",
      "Requirement already satisfied: sniffio>=1.1 in /Users/jeongsumin/DEV/MyVenv/LangVenv/lib/python3.13/site-packages (from anyio->httpx->tavily-python) (1.3.1)\n",
      "Using cached tavily_python-0.5.1-py3-none-any.whl (43 kB)\n",
      "Using cached langchain_community-0.3.17-py3-none-any.whl (2.5 MB)\n",
      "Using cached aiohttp-3.11.12-cp313-cp313-macosx_11_0_arm64.whl (453 kB)\n",
      "Using cached dataclasses_json-0.6.7-py3-none-any.whl (28 kB)\n",
      "Using cached httpx_sse-0.4.0-py3-none-any.whl (7.8 kB)\n",
      "Using cached langchain-0.3.18-py3-none-any.whl (1.0 MB)\n",
      "Downloading numpy-2.2.3-cp313-cp313-macosx_14_0_arm64.whl (5.1 MB)\n",
      "\u001b[2K   \u001b[90m━━━━━━━━━━━━━━━━━━━━━━━━━━━━━━━━━━━━━━━━\u001b[0m \u001b[32m5.1/5.1 MB\u001b[0m \u001b[31m18.4 MB/s\u001b[0m eta \u001b[36m0:00:00\u001b[0ma \u001b[36m0:00:01\u001b[0m\n",
      "\u001b[?25hUsing cached pydantic_settings-2.7.1-py3-none-any.whl (29 kB)\n",
      "Using cached SQLAlchemy-2.0.38-cp313-cp313-macosx_11_0_arm64.whl (2.1 MB)\n",
      "Using cached aiohappyeyeballs-2.4.6-py3-none-any.whl (14 kB)\n",
      "Using cached aiosignal-1.3.2-py2.py3-none-any.whl (7.6 kB)\n",
      "Using cached frozenlist-1.5.0-cp313-cp313-macosx_11_0_arm64.whl (50 kB)\n",
      "Using cached langchain_text_splitters-0.3.6-py3-none-any.whl (31 kB)\n",
      "Using cached marshmallow-3.26.1-py3-none-any.whl (50 kB)\n",
      "Using cached multidict-6.1.0-cp313-cp313-macosx_11_0_arm64.whl (29 kB)\n",
      "Using cached propcache-0.2.1-cp313-cp313-macosx_11_0_arm64.whl (44 kB)\n",
      "Using cached typing_inspect-0.9.0-py3-none-any.whl (8.8 kB)\n",
      "Using cached yarl-1.18.3-cp313-cp313-macosx_11_0_arm64.whl (91 kB)\n",
      "Using cached mypy_extensions-1.0.0-py3-none-any.whl (4.7 kB)\n",
      "Installing collected packages: SQLAlchemy, propcache, numpy, mypy-extensions, multidict, marshmallow, httpx-sse, frozenlist, aiohappyeyeballs, yarl, typing-inspect, aiosignal, tavily-python, pydantic-settings, dataclasses-json, aiohttp, langchain-text-splitters, langchain, langchain_community\n",
      "Successfully installed SQLAlchemy-2.0.38 aiohappyeyeballs-2.4.6 aiohttp-3.11.12 aiosignal-1.3.2 dataclasses-json-0.6.7 frozenlist-1.5.0 httpx-sse-0.4.0 langchain-0.3.18 langchain-text-splitters-0.3.6 langchain_community-0.3.17 marshmallow-3.26.1 multidict-6.1.0 mypy-extensions-1.0.0 numpy-2.2.3 propcache-0.2.1 pydantic-settings-2.7.1 tavily-python-0.5.1 typing-inspect-0.9.0 yarl-1.18.3\n",
      "Note: you may need to restart the kernel to use updated packages.\n"
     ]
    }
   ],
   "source": [
    "# 라이브러리 설치\n",
    "%pip install -U tavily-python langchain_community # 검색엔진 사용을 위한 라이브러리"
   ]
  },
  {
   "cell_type": "code",
   "execution_count": 1,
   "metadata": {},
   "outputs": [
    {
     "data": {
      "text/plain": [
       "True"
      ]
     },
     "execution_count": 1,
     "metadata": {},
     "output_type": "execute_result"
    }
   ],
   "source": [
    "# API 키를 환경변수로 관리하기 위한 설정 파일\n",
    "import os\n",
    "from dotenv import load_dotenv\n",
    "\n",
    "# API 키 정보 로드\n",
    "load_dotenv()"
   ]
  },
  {
   "cell_type": "code",
   "execution_count": 4,
   "metadata": {},
   "outputs": [
    {
     "data": {
      "text/plain": [
       "[{'url': 'https://x2bee.tistory.com/430',\n",
       "  'content': '이번에는 LangGraph의 핵심 요소 3가지(State, Node, Edge)가 어떻게 동작하는지 이해하고자 한다. LangGraph는 기본적으로 다양한 도구(정확하게는 Node)들의 연결된 집합으로 이해할 수 있다. from langgraph.graph.message import add_messages messages: Annotated[list, add_messages] from langgraph.graph import add_messages LangGraph에서는 이러한 방식을 통해 사용자와 LLM 간 메세지의 흐름을 관리하고 있다. from typing_extensions import Annotated, TypedDict setup: Annotated[str, ..., \"The setup of the joke\"] punchline: Annotated[str, ..., \"The punchline of the joke\"] messages: Annotated[list, add_messages] 여기서는 llm 이라는 노드에서 human_node 또는 next_node로 연결하도록 한다. \\'A.I.(인공지능) & M.L.(머신러닝) > LLM\\' 카테고리의 다른 글 A.I.(인공지능) & M.L.(머신러닝)/LLM 관련 글 langgraph #React #443 #LLM #Lora #nifi #Langchain #HuggingFace #fine-tuning #문제해결 #AWS EKS #rag #ElasticSearch #아파치 #nextjs #python #검색엔진 #finetuning #Spring Boot Batch #adapter_model.bin #파이썬 #venv #나이파이 #Ai #셀레니움 #이벤트리스너 #1kb #pyTorch #딥러닝 #apach'},\n",
       " {'url': 'https://wikidocs.net/268613',\n",
       "  'content': 'Langchain 랭체인과 Langgraph의 차이점 - 모두의 AI 케인의 LangGraph로 끝내는 멀티 AI Agent : LangGraph 시작하기 랭 체인은 여러 구성 요소를 선형적으로 이어주는 구조로, 정의된 순서에 따라 작업을 수행하는 반면, 랭 그래프는 노드와 엣지의 연결을 통해 비선형적이고 동적인 프로세스를 구성합니다. 체인 홈페이지에서 랭 체인과 랭 그래프가 평행선상에 표현되어 있는 그림을 볼 수 있다 따라서, 랭 체인 생태 내에서 두 프레임워크는 주요 아키텍처로서 비슷한 점이 많다고 볼 수 있다 랭 체인의 주요 활용은 레그라로 볼 수 있다 레그의 인덱싱 과정은 일종의 파이프라인을 통해 수행되며, 랭 체인을 활용하여 생성 과정을 완성할 수 있다 랭 체인은 일방향적 체인 구조로 구성할 수 있지만, 랭 그래프는 주어진 메시지에 따라 어시스턴트가 다음 노드를 선택한다 Report a comment. Do you want to report this comment?'},\n",
       " {'url': 'https://www.youtube.com/watch?v=mvGp8Wz3KdI',\n",
       "  'content': '바로 이산 수학 (Discrete mathematics) 중 하나인 그래프 이론 (Graph Theory) 에서 그 이름이 유래한 건데요. 그래프 이론 어렵지 않습니다. 점 들'}]"
      ]
     },
     "execution_count": 4,
     "metadata": {},
     "output_type": "execute_result"
    }
   ],
   "source": [
    "# 도구 정의하기\n",
    "from langchain_community.tools.tavily_search import TavilySearchResults\n",
    "\n",
    "tool = TavilySearchResults(max_results=3) # 최대 3개의 답변을 제공\n",
    "tools = [tool]\n",
    "tool.invoke(\"랭그래프에서 node가 뜻하는게 뭐야?\")"
   ]
  },
  {
   "cell_type": "code",
   "execution_count": 6,
   "metadata": {},
   "outputs": [],
   "source": [
    "from typing import Annotated\n",
    "\n",
    "from langchain_openai import ChatOpenAI\n",
    "from langchain_community.tools.tavily_search import TavilySearchResults\n",
    "from langchain_core.messages import BaseMessage\n",
    "from typing_extensions import TypedDict\n",
    "\n",
    "from langgraph.graph import StateGraph, START, END\n",
    "from langgraph.graph.message import add_messages\n",
    "from langgraph.prebuilt import ToolNode, tools_condition\n",
    "\n",
    "\n",
    "class State(TypedDict):\n",
    "    messages: Annotated[list, add_messages]\n",
    "\n",
    "\n",
    "graph_builder = StateGraph(State)\n",
    "\n",
    "\n",
    "tool = TavilySearchResults(max_results=2)\n",
    "tools = [tool]\n",
    "llm = ChatOpenAI(model=\"gpt-4o-mini\")\n",
    "llm_with_tools = llm.bind_tools(tools)\n",
    "\n",
    "\n",
    "def chatbot(state: State):\n",
    "    return {\"messages\": [llm_with_tools.invoke(state[\"messages\"])]}\n",
    "\n",
    "\n",
    "graph_builder.add_node(\"chatbot\", chatbot)\n",
    "\n",
    "tool_node = ToolNode(tools=[tool])\n",
    "graph_builder.add_node(\"tools\", tool_node)\n",
    "\n",
    "graph_builder.add_conditional_edges(\n",
    "    \"chatbot\",\n",
    "    tools_condition,\n",
    ")\n",
    "\n",
    "graph_builder.add_edge(\"tools\", \"chatbot\")\n",
    "graph_builder.add_edge(START, \"chatbot\")\n",
    "graph = graph_builder.compile()"
   ]
  },
  {
   "cell_type": "code",
   "execution_count": 7,
   "metadata": {},
   "outputs": [
    {
     "data": {
      "image/png": "[encoded data removed]",
      "text/plain": [
       "<IPython.core.display.Image object>"
      ]
     },
     "metadata": {},
     "output_type": "display_data"
    }
   ],
   "source": [
    "from IPython.display import Image, display\n",
    "\n",
    "try:\n",
    "    display(Image(graph.get_graph().draw_mermaid_png()))\n",
    "except Exception:\n",
    "    # This requires some extra dependencies and is optional\n",
    "    pass"
   ]
  },
  {
   "cell_type": "code",
   "execution_count": 9,
   "metadata": {},
   "outputs": [
    {
     "name": "stdout",
     "output_type": "stream",
     "text": [
      "Assistant: It seems like there is no input provided. How can I assist you today?\n",
      "Assistant: \n",
      "Assistant: [{\"url\": \"https://www.langchain.com/langgraph\", \"content\": \"Build and scale agentic applications with LangGraph Platform. Design agent-driven user experiences with LangGraph Platform's APIs. Quickly deploy and scale your application with infrastructure built for agents. LangGraph sets the foundation for how we can build and scale AI workloads — from conversational agents, complex task automation, to custom LLM-backed experiences that 'just work'. The next chapter in building complex production-ready features with LLMs is agentic, and with LangGraph and LangSmith, LangChain delivers an out-of-the-box solution to iterate quickly, debug immediately, and scale effortlessly.” LangGraph sets the foundation for how we can build and scale AI workloads — from conversational agents, complex task automation, to custom LLM-backed experiences that 'just work'. LangGraph Platform is a service for deploying and scaling LangGraph applications, with an opinionated API for building agent UXs, plus an integrated developer studio.\"}, {\"url\": \"https://langchain-ai.github.io/langgraph/tutorials/introduction/\", \"content\": \"[](https://langchain-ai.github.io/langgraph/tutorials/introduction/#__codelineno-4-1)graph_builder.add_edge(START, \\\"chatbot\\\") [](https://langchain-ai.github.io/langgraph/tutorials/introduction/#__codelineno-17-33)graph_builder.add_node(\\\"tools\\\", tool_node) [](https://langchain-ai.github.io/langgraph/tutorials/introduction/#__codelineno-18-19)# The `tools_condition` function returns \\\"tools\\\" if the chatbot asks to use a tool, and \\\"END\\\" if [](https://langchain-ai.github.io/langgraph/tutorials/introduction/#__codelineno-18-32)graph_builder.add_edge(\\\"tools\\\", \\\"chatbot\\\") [](https://langchain-ai.github.io/langgraph/tutorials/introduction/#__codelineno-18-33)graph_builder.add_edge(START, \\\"chatbot\\\") [](https://langchain-ai.github.io/langgraph/tutorials/introduction/#__codelineno-21-34)LangGraph appears to be a significant tool in the evolving landscape of LLM-based application development, offering developers new ways to create more complex, stateful, and interactive AI systems. [](https://langchain-ai.github.io/langgraph/tutorials/introduction/#__codelineno-22-33)graph_builder.add_node(\\\"tools\\\", tool_node) [](https://langchain-ai.github.io/langgraph/tutorials/introduction/#__codelineno-22-40)graph_builder.add_edge(\\\"tools\\\", \\\"chatbot\\\") [](https://langchain-ai.github.io/langgraph/tutorials/introduction/#__codelineno-24-33)graph_builder.add_node(\\\"tools\\\", tool_node) [](https://langchain-ai.github.io/langgraph/tutorials/introduction/#__codelineno-24-40)graph_builder.add_edge(\\\"tools\\\", \\\"chatbot\\\") [](https://langchain-ai.github.io/langgraph/tutorials/introduction/#__codelineno-24-41)graph_builder.add_edge(START, \\\"chatbot\\\") [](https://langchain-ai.github.io/langgraph/tutorials/introduction/#__codelineno-38-34)graph_builder.add_node(\\\"tools\\\", tool_node) [](https://langchain-ai.github.io/langgraph/tutorials/introduction/#__codelineno-38-40)graph_builder.add_edge(\\\"tools\\\", \\\"chatbot\\\") [](https://langchain-ai.github.io/langgraph/tutorials/introduction/#__codelineno-39-48)graph_builder.add_node(\\\"tools\\\", tool_node) [](https://langchain-ai.github.io/langgraph/tutorials/introduction/#__codelineno-39-54)graph_builder.add_edge(\\\"tools\\\", \\\"chatbot\\\") [](https://langchain-ai.github.io/langgraph/tutorials/introduction/#__codelineno-39-55)graph_builder.add_edge(START, \\\"chatbot\\\") [](https://langchain-ai.github.io/langgraph/tutorials/introduction/#__codelineno-49-44)graph_builder.add_node(\\\"tools\\\", tool_node) [](https://langchain-ai.github.io/langgraph/tutorials/introduction/#__codelineno-49-50)graph_builder.add_edge(\\\"tools\\\", \\\"chatbot\\\") [](https://langchain-ai.github.io/langgraph/tutorials/introduction/#__codelineno-49-51)graph_builder.add_edge(START, \\\"chatbot\\\") [](https://langchain-ai.github.io/langgraph/tutorials/introduction/#__codelineno-52-25)graph_builder.add_node(\\\"tools\\\", tool_node) [](https://langchain-ai.github.io/langgraph/tutorials/introduction/#__codelineno-52-31)graph_builder.add_edge(\\\"tools\\\", \\\"chatbot\\\") [](https://langchain-ai.github.io/langgraph/tutorials/introduction/#__codelineno-52-32)graph_builder.add_edge(START, \\\"chatbot\\\") [](https://langchain-ai.github.io/langgraph/tutorials/introduction/#__codelineno-53-3)    \\\"When you have the answer, use the human_assistance tool for review.\\\" [](https://langchain-ai.github.io/langgraph/tutorials/introduction/#__codelineno-63-68)graph_builder.add_node(\\\"tools\\\", tool_node) [](https://langchain-ai.github.io/langgraph/tutorials/introduction/#__codelineno-63-74)graph_builder.add_edge(\\\"tools\\\", \\\"chatbot\\\") [](https://langchain-ai.github.io/langgraph/tutorials/introduction/#__codelineno-63-75)graph_builder.add_edge(START, \\\"chatbot\\\") [](https://langchain-ai.github.io/langgraph/tutorials/introduction/#__codelineno-64-34)graph_builder.add_node(\\\"tools\\\", tool_node) [](https://langchain-ai.github.io/langgraph/tutorials/introduction/#__codelineno-64-40)graph_builder.add_edge(\\\"tools\\\", \\\"chatbot\\\") [](https://langchain-ai.github.io/langgraph/tutorials/introduction/#__codelineno-64-41)graph_builder.add_edge(START, \\\"chatbot\\\") [](https://langchain-ai.github.io/langgraph/tutorials/introduction/#__codelineno-74-24)   There are tutorials available that provide full code examples for building and running multi-tool agents.\"}]\n",
      "Assistant: LangGraph is a platform designed to facilitate the development and scaling of agentic applications, particularly those involving AI and large language models (LLMs). It provides APIs for designing agent-driven user experiences and offers infrastructure that allows for quick deployment and scalability. LangGraph aims to streamline the creation of conversational agents, complex task automation, and custom LLM-backed experiences.\n",
      "\n",
      "Some key features of LangGraph include:\n",
      "\n",
      "1. **Agentic Applications**: LangGraph is specifically geared toward building applications that can initiate and manage tasks autonomously, making it suitable for stateful and interactive AI systems.\n",
      "   \n",
      "2. **Foundation for AI Workloads**: The platform provides foundational tools for deploying and scaling AI workloads, which can encompass a range of applications from chatbots to more complex automation processes.\n",
      "\n",
      "3. **Integrated Developer Studio**: LangGraph includes an integrated development environment that helps developers iterate quickly, debug seamlessly, and scale their applications effectively.\n",
      "\n",
      "4. **Tutorials and Documentation**: LangGraph offers comprehensive tutorials and documentation, which guide users through the process of building and running multi-tool agents, with full code examples available.\n",
      "\n",
      "For more information, you can visit their official site [here](https://www.langchain.com/langgraph) or explore their tutorials [here](https://langchain-ai.github.io/langgraph/tutorials/introduction/).\n",
      "Assistant: 랭그래프에서 \"node\"는 그래프의 정점을 의미합니다. 그래프는 보통 점(노드)과 이 점들을 연결하는 선(엣지)으로 구성되어 있으며, 각 노드는 개체나 요소를 나타냅니다. 예를 들어, 소셜 네트워크 그래프에서는 각 노드가 사용자일 수 있고, 노드 간의 엣지는 그 사용자들 간의 관계를 나타낼 수 있습니다. 노드는 그래프 구조에서 중요한 구성 요소로, 다양한 데이터 구조와 알고리즘에서 활용됩니다.\n",
      "Goodbye!\n"
     ]
    }
   ],
   "source": [
    "def stream_graph_updates(user_input: str):\n",
    "    for event in graph.stream({\"messages\": [{\"role\": \"user\", \"content\": user_input}]}):\n",
    "        for value in event.values():\n",
    "            print(\"Assistant:\", value[\"messages\"][-1].content)\n",
    "\n",
    "while True:\n",
    "    try:\n",
    "        user_input = input(\"User: \")\n",
    "        if user_input.lower() in [\"quit\", \"exit\", \"q\"]:\n",
    "            print(\"Goodbye!\")\n",
    "            break\n",
    "\n",
    "        stream_graph_updates(user_input)\n",
    "    except:\n",
    "        # fallback if input() is not available\n",
    "        user_input = \"What do you know about LangGraph?\"\n",
    "        print(\"User: \" + user_input)\n",
    "        stream_graph_updates(user_input)\n",
    "        break"
   ]
  }
 ],
 "metadata": {
  "kernelspec": {
   "display_name": "Python (LangVenv)",
   "language": "python",
   "name": "langvenv"
  },
  "language_info": {
   "codemirror_mode": {
    "name": "ipython",
    "version": 3
   },
   "file_extension": ".py",
   "mimetype": "text/x-python",
   "name": "python",
   "nbconvert_exporter": "python",
   "pygments_lexer": "ipython3",
   "version": "3.13.2"
  }
 },
 "nbformat": 4,
 "nbformat_minor": 2
}
